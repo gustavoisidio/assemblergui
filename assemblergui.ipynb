{
 "cells": [
  {
   "cell_type": "code",
   "execution_count": null,
   "metadata": {
    "scrolled": true
   },
   "outputs": [
    {
     "name": "stdout",
     "output_type": "stream",
     "text": [
      "Submit {0: 'lui x2, 39\\n', '_OUTPUT_': 'Your binary code will be here\\n'}\n"
     ]
    }
   ],
   "source": [
    "import PySimpleGUI as sg\n",
    "import os\n",
    "from subprocess import call\n",
    "\n",
    "instructionsConverted = \"Your binary code will be here\"\n",
    "\n",
    "layout = [[sg.Multiline(size=(40, 40)),\n",
    "           sg.Multiline(default_text=instructionsConverted, size=(40, 40), key='_OUTPUT_')],\n",
    "          [sg.Submit(), sg.Cancel()]      \n",
    "]\n",
    "\n",
    "window = sg.Window('RISC-V Assembler', default_element_size=(40, 1)).Layout(layout)\n",
    "\n",
    "while True:  # Event button Loop\n",
    "    button, values = window.Read()\n",
    " \n",
    "    filename = \"instructions.mif\"\n",
    "    with open(filename) as f:\n",
    "        instructionsConverted = f.read()\n",
    "        \n",
    "    print(button, values)\n",
    "    if button is None or button == 'Cancel':\n",
    "        break\n",
    "    if button == 'Submit':\n",
    "#         execfile('run.command')\n",
    "#         os.system(\"./source\")\n",
    "#         call([\"./source\"])\n",
    "        try:\n",
    "            name_file = \"instructions.txt\"\n",
    "            file= open(name_file, 'r+')\n",
    "        except FileNotFoundError:\n",
    "            file= open(name_file, 'w+')\n",
    "\n",
    "        all_values = values[0] # values from dictionary\n",
    "        text = all_values\n",
    "        file.write(text)             # write all as one string\n",
    "\n",
    "        file.close()\n",
    "\n",
    "        window.FindElement('_OUTPUT_').Update(instructionsConverted)\n",
    "\n",
    "window.Close()"
   ]
  },
  {
   "cell_type": "code",
   "execution_count": null,
   "metadata": {},
   "outputs": [],
   "source": []
  }
 ],
 "metadata": {
  "kernelspec": {
   "display_name": "Python 3",
   "language": "python",
   "name": "python3"
  },
  "language_info": {
   "codemirror_mode": {
    "name": "ipython",
    "version": 3
   },
   "file_extension": ".py",
   "mimetype": "text/x-python",
   "name": "python",
   "nbconvert_exporter": "python",
   "pygments_lexer": "ipython3",
   "version": "3.6.8"
  }
 },
 "nbformat": 4,
 "nbformat_minor": 2
}
