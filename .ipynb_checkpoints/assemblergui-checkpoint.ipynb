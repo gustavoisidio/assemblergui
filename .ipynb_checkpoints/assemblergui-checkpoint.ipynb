{
 "cells": [
  {
   "cell_type": "code",
   "execution_count": 44,
   "metadata": {},
   "outputs": [],
   "source": [
    "# import PySimpleGUI as sg\n",
    "\n",
    "# # Very basic window.  Return values as a list\n",
    "\n",
    "# layout = [      \n",
    "#           [sg.Text('Please enter your Name, Address, Phone')],      \n",
    "#           [sg.Text('Name', size=(15, 1)), sg.InputText('name')],      \n",
    "#           [sg.Text('Address', size=(15, 1)), sg.InputText('address')],      \n",
    "#           [sg.Text('Phone', size=(15, 1)), sg.InputText('phone')],      \n",
    "#           [sg.Submit(), sg.Cancel()]      \n",
    "#          ]\n",
    "\n",
    "# window = sg.Window('Simple data entry window').Layout(layout)         \n",
    "# button, values = window.Read()\n",
    "\n",
    "# print(button, values[0], values[1], values[2])"
   ]
  },
  {
   "cell_type": "code",
   "execution_count": 45,
   "metadata": {},
   "outputs": [],
   "source": [
    "# import PySimpleGUI as sg\n",
    "\n",
    "# # Very basic window.  Return values as a list\n",
    "\n",
    "# layout = [            \n",
    "#           [ sg.InputText('Assembly code', size=(15,15)), sg.Text('Binary Code', size=(15, 15))],     \n",
    "#           [sg.Submit(), sg.Cancel()]      \n",
    "#          ]\n",
    "\n",
    "# window = sg.Window('Montador RISC-V').Layout(layout)         \n",
    "# button, values = window.Read()\n",
    "\n",
    "# print(values[0])"
   ]
  },
  {
   "cell_type": "code",
   "execution_count": 65,
   "metadata": {
    "scrolled": true
   },
   "outputs": [
    {
     "name": "stdout",
     "output_type": "stream",
     "text": [
      "Your assembly code should go here\n",
      "\n"
     ]
    }
   ],
   "source": [
    "import PySimpleGUI as sg\n",
    "\n",
    "instructionsConverted = \"Your binary code should apear here\"\n",
    "\n",
    "# sg.ChangeLookAndFeel('GreenTan')\n",
    "\n",
    "# column1 = [[sg.Text('Column 1', background_color='#d3dfda', justification='center', size=(10, 1))],      \n",
    "#            [sg.Spin(values=('Spin Box 1', '2', '3'), initial_value='Spin Box 1')],      \n",
    "#            [sg.Spin(values=('Spin Box 1', '2', '3'), initial_value='Spin Box 2')],      \n",
    "#            [sg.Spin(values=('Spin Box 1', '2', '3'), initial_value='Spin Box 3')]]      \n",
    "layout = [      \n",
    "#     [sg.Text('Montador RISC-V', size=(30, 1), font=(\"Helvetica\", 25))],      \n",
    "#     [sg.Text('Here is some text.... and a place to enter text')],      \n",
    "#     [sg.InputText('This is my text')],      \n",
    "#     [sg.Checkbox('My first checkbox!'), sg.Checkbox('My second checkbox!', default=True)],      \n",
    "#     [sg.Radio('My first Radio!     ', \"RADIO1\", default=True), sg.Radio('My second Radio!', \"RADIO1\")],      \n",
    "    [sg.Multiline(default_text='Your assembly code should go here', size=(40, 40)),\n",
    "     sg.Multiline(default_text=instructionsConverted, size=(40, 40))],\n",
    "#      sg.Text('All graphic widgets in one window!', size=(30, 1), font=(\"Helvetica\", 12))],   \n",
    "  \n",
    "#     [sg.InputCombo(('Combobox 1', 'Combobox 2'), size=(20, 3)),      \n",
    "#      sg.Slider(range=(1, 100), orientation='h', size=(34, 20), default_value=85)],      \n",
    "#     [sg.Listbox(values=('Listbox 1', 'Listbox 2', 'Listbox 3'), size=(30, 3)),      \n",
    "#      sg.Slider(range=(1, 100), orientation='v', size=(5, 20), default_value=25),      \n",
    "#      sg.Slider(range=(1, 100), orientation='v', size=(5, 20), default_value=75),      \n",
    "#      sg.Slider(range=(1, 100), orientation='v', size=(5, 20), default_value=10),      \n",
    "#      sg.Column(column1, background_color='#d3dfda')],      \n",
    "#     [sg.Text('_'  * 80)],      \n",
    "#     [sg.Text('Choose A Folder', size=(35, 1))],      \n",
    "#     [sg.Text('Your Folder', size=(15, 1), auto_size_text=False, justification='right'),      \n",
    "#      sg.InputText('Default Folder'), sg.FolderBrowse()],      \n",
    "    [sg.Submit(), sg.Cancel()]      \n",
    "]\n",
    "\n",
    "window = sg.Window('RISC-V Assembler', default_element_size=(40, 1)).Layout(layout)\n",
    "button, values = window.Read()\n",
    "window.Close()\n",
    "# sg.Popup(button, values)\n",
    "print(values[0])\n"
   ]
  },
  {
   "cell_type": "code",
   "execution_count": 66,
   "metadata": {},
   "outputs": [],
   "source": [
    "if button == 'Submit':\n",
    "    try:\n",
    "        name_file = \"instructions.mif\"\n",
    "        file= open(name_file, 'r+')\n",
    "    except FileNotFoundError:\n",
    "        file= open(name_file, 'w+')\n",
    "\n",
    "    all_values = values[0] # values from dictionary\n",
    "    text = all_values\n",
    "#     text = \"\\n\".join(all_values) # put values in separated lines\n",
    "    file.write(text)             # write all as one string\n",
    "\n",
    "    file.close()"
   ]
  },
  {
   "cell_type": "code",
   "execution_count": null,
   "metadata": {},
   "outputs": [],
   "source": []
  }
 ],
 "metadata": {
  "kernelspec": {
   "display_name": "Python 3",
   "language": "python",
   "name": "python3"
  },
  "language_info": {
   "codemirror_mode": {
    "name": "ipython",
    "version": 3
   },
   "file_extension": ".py",
   "mimetype": "text/x-python",
   "name": "python",
   "nbconvert_exporter": "python",
   "pygments_lexer": "ipython3",
   "version": "3.6.8"
  }
 },
 "nbformat": 4,
 "nbformat_minor": 2
}
